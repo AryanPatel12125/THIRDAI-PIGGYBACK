{
 "cells": [
  {
   "cell_type": "code",
   "execution_count": 1,
   "id": "e15f3f39",
   "metadata": {},
   "outputs": [
    {
     "name": "stdout",
     "output_type": "stream",
     "text": [
      "Collecting thirdai\n",
      "  Downloading thirdai-0.7.16-cp310-cp310-win_amd64.whl (4.2 MB)\n",
      "     ---------------------------------------- 4.2/4.2 MB 1.8 MB/s eta 0:00:00\n",
      "Requirement already satisfied: typing-extensions in g:\\anaconda\\lib\\site-packages (from thirdai) (4.4.0)\n",
      "Requirement already satisfied: pandas>=1.2.0 in g:\\anaconda\\lib\\site-packages (from thirdai) (1.5.3)\n",
      "Requirement already satisfied: numpy in g:\\anaconda\\lib\\site-packages (from thirdai) (1.23.5)\n",
      "Requirement already satisfied: requests in g:\\anaconda\\lib\\site-packages (from thirdai) (2.28.1)\n",
      "Requirement already satisfied: pytz>=2020.1 in g:\\anaconda\\lib\\site-packages (from pandas>=1.2.0->thirdai) (2022.7)\n",
      "Requirement already satisfied: python-dateutil>=2.8.1 in g:\\anaconda\\lib\\site-packages (from pandas>=1.2.0->thirdai) (2.8.2)\n",
      "Requirement already satisfied: charset-normalizer<3,>=2 in g:\\anaconda\\lib\\site-packages (from requests->thirdai) (2.0.4)\n",
      "Requirement already satisfied: idna<4,>=2.5 in g:\\anaconda\\lib\\site-packages (from requests->thirdai) (3.4)\n",
      "Requirement already satisfied: certifi>=2017.4.17 in g:\\anaconda\\lib\\site-packages (from requests->thirdai) (2023.5.7)\n",
      "Requirement already satisfied: urllib3<1.27,>=1.21.1 in g:\\anaconda\\lib\\site-packages (from requests->thirdai) (1.26.14)\n",
      "Requirement already satisfied: six>=1.5 in g:\\anaconda\\lib\\site-packages (from python-dateutil>=2.8.1->pandas>=1.2.0->thirdai) (1.16.0)\n",
      "Installing collected packages: thirdai\n",
      "Successfully installed thirdai-0.7.16\n"
     ]
    }
   ],
   "source": [
    "!pip3 install thirdai"
   ]
  },
  {
   "cell_type": "code",
   "execution_count": 4,
   "id": "7346d097",
   "metadata": {},
   "outputs": [
    {
     "ename": "SyntaxError",
     "evalue": "invalid character '“' (U+201C) (919362549.py, line 2)",
     "output_type": "error",
     "traceback": [
      "\u001b[1;36m  Cell \u001b[1;32mIn[4], line 2\u001b[1;36m\u001b[0m\n\u001b[1;33m    thirdai.licensing.activate(“FE6C41-A0DAE1-CD5B11-CFD0C8-B6A6B2-V3”)\u001b[0m\n\u001b[1;37m                               ^\u001b[0m\n\u001b[1;31mSyntaxError\u001b[0m\u001b[1;31m:\u001b[0m invalid character '“' (U+201C)\n"
     ]
    }
   ],
   "source": [
    "import thirdai\n",
    "thirdai.licensing.activate('FE6C41-A0DAE1-CD5B11-CFD0C8-B6A6B2-V3')"
   ]
  }
 ],
 "metadata": {
  "kernelspec": {
   "display_name": "Python 3 (ipykernel)",
   "language": "python",
   "name": "python3"
  },
  "language_info": {
   "codemirror_mode": {
    "name": "ipython",
    "version": 3
   },
   "file_extension": ".py",
   "mimetype": "text/x-python",
   "name": "python",
   "nbconvert_exporter": "python",
   "pygments_lexer": "ipython3",
   "version": "3.10.9"
  }
 },
 "nbformat": 4,
 "nbformat_minor": 5
}
